{
 "cells": [
  {
   "cell_type": "code",
   "execution_count": 3,
   "id": "090bd267-1408-44df-8ca0-9281650b2350",
   "metadata": {},
   "outputs": [],
   "source": [
    "data_rekap = [\n",
    "    {\n",
    "        \"tahun\": 1995,\n",
    "        \"penjualan\": 300,\n",
    "        \"operasional\": 150,\n",
    "        \"pajak\": 50,\n",
    "        \"pendapatan_lain\": 135\n",
    "    },\n",
    "    {\n",
    "        \"tahun\": 1997,\n",
    "        \"penjualan\": 320,\n",
    "        \"operasional\": 120,\n",
    "        \"pajak\": 70,\n",
    "        \"pendapatan_lain\": 105\n",
    "    },\n",
    "    {\n",
    "        \"tahun\": 1991,\n",
    "        \"penjualan\": 200,\n",
    "        \"operasional\": 75,\n",
    "        \"pajak\": 35,\n",
    "        \"pendapatan_lain\": 85\n",
    "        },\n",
    "    {\n",
    "        \"tahun\": 1992,\n",
    "        \"penjualan\": 320,\n",
    "        \"operasional\": 170,\n",
    "        \"pajak\": 80,\n",
    "        \"pendapatan_lain\": 235\n",
    "    },\n",
    "    {\n",
    "        \"tahun\": 2001,\n",
    "        \"penjualan\": 300,\n",
    "        \"operasional\": 150,\n",
    "        \"pajak\": 50,\n",
    "        \"pendapatan_lain\": 135\n",
    "    },\n",
    "    {\n",
    "        \"tahun\": 2003,\n",
    "        \"penjualan\": 500,\n",
    "        \"operasional\": 350,\n",
    "        \"pajak\": 100,\n",
    "        \"pendapatan_lain\": 55\n",
    "    },\n",
    "    {\n",
    "        \"tahun\": 2005,\n",
    "        \"penjualan\": 750,\n",
    "        \"operasional\": 450,\n",
    "        \"pajak\": 200,\n",
    "        \"pendapatan_lain\": 155\n",
    "    }\n",
    "]"
   ]
  },
  {
   "cell_type": "code",
   "execution_count": 4,
   "id": "b2257304-2dca-4718-a9ca-e9e46765c7dd",
   "metadata": {},
   "outputs": [],
   "source": [
    "# expected data\n",
    "data_graph = {\n",
    "    \"tahun\": [...], # x\n",
    "    \"penjualan\": [...] # y\n",
    "}"
   ]
  },
  {
   "cell_type": "code",
   "execution_count": 5,
   "id": "a7848a33-8b5f-47e9-bb1f-bd445e14444c",
   "metadata": {},
   "outputs": [],
   "source": [
    "# mapping\n",
    "# data_map = { <tahun>: <penjualan>}"
   ]
  },
  {
   "cell_type": "code",
   "execution_count": 6,
   "id": "1e2263f1-68af-4b38-9e6d-f08dc018fb27",
   "metadata": {},
   "outputs": [
    {
     "data": {
      "text/plain": [
       "{1995: 300, 1997: 320, 1991: 200, 1992: 320, 2001: 300, 2003: 500, 2005: 750}"
      ]
     },
     "execution_count": 6,
     "metadata": {},
     "output_type": "execute_result"
    }
   ],
   "source": [
    "data_map = { data[\"tahun\"]: data[\"penjualan\"] for data in data_rekap}\n",
    "data_map"
   ]
  },
  {
   "cell_type": "code",
   "execution_count": 7,
   "id": "99c7a4ff-dbca-487e-a6b6-02be5e8583d1",
   "metadata": {},
   "outputs": [
    {
     "data": {
      "text/plain": [
       "[1991, 1992, 1995, 1997, 2001, 2003, 2005]"
      ]
     },
     "execution_count": 7,
     "metadata": {},
     "output_type": "execute_result"
    }
   ],
   "source": [
    "# Sorting data tahun\n",
    "tahun = list(data_map.keys())\n",
    "tahun.sort()\n",
    "tahun"
   ]
  },
  {
   "cell_type": "code",
   "execution_count": 8,
   "id": "08200d6b-dc14-4662-9d68-a3d087eeb57e",
   "metadata": {},
   "outputs": [
    {
     "data": {
      "text/plain": [
       "[200, 320, 300, 320, 300, 500, 750]"
      ]
     },
     "execution_count": 8,
     "metadata": {},
     "output_type": "execute_result"
    }
   ],
   "source": [
    "# get data penjualan\n",
    "penjualan = [data_map[_tahun]for _tahun in tahun]\n",
    "penjualan\n",
    "    "
   ]
  },
  {
   "cell_type": "code",
   "execution_count": 9,
   "id": "c9967a84-01ff-4196-8a6c-38ae8236895e",
   "metadata": {},
   "outputs": [
    {
     "data": {
      "text/plain": [
       "{'tahun': [1991, 1992, 1995, 1997, 2001, 2003, 2005],\n",
       " 'penjualan': [200, 320, 300, 320, 300, 500, 750],\n",
       " 'pajak': [20, 30, 30, 20, 30, 50, 75]}"
      ]
     },
     "execution_count": 9,
     "metadata": {},
     "output_type": "execute_result"
    }
   ],
   "source": [
    "data_graph = {\n",
    "    \"tahun\": tahun,\n",
    "    \"penjualan\": penjualan,\n",
    "    \"pajak\": [20, 30, 30, 20, 30, 50, 75]\n",
    "}\n",
    "data_graph"
   ]
  },
  {
   "cell_type": "code",
   "execution_count": 10,
   "id": "7d8b42f5-c8d7-471b-9832-080e5577cdcf",
   "metadata": {},
   "outputs": [
    {
     "ename": "NameError",
     "evalue": "name 'plt' is not defined",
     "output_type": "error",
     "traceback": [
      "\u001b[1;31m---------------------------------------------------------------------------\u001b[0m",
      "\u001b[1;31mNameError\u001b[0m                                 Traceback (most recent call last)",
      "Cell \u001b[1;32mIn[10], line 1\u001b[0m\n\u001b[1;32m----> 1\u001b[0m \u001b[43mplt\u001b[49m\u001b[38;5;241m.\u001b[39mplot(data_graph[\u001b[38;5;124m\"\u001b[39m\u001b[38;5;124mtahun\u001b[39m\u001b[38;5;124m\"\u001b[39m], data_graph[\u001b[38;5;124m\"\u001b[39m\u001b[38;5;124mpenjualan\u001b[39m\u001b[38;5;124m\"\u001b[39m],\u001b[38;5;124m\"\u001b[39m\u001b[38;5;124mo-\u001b[39m\u001b[38;5;124m\"\u001b[39m, label\u001b[38;5;241m=\u001b[39m\u001b[38;5;124m\"\u001b[39m\u001b[38;5;124mpenjualan\u001b[39m\u001b[38;5;124m\"\u001b[39m)\n\u001b[0;32m      2\u001b[0m plt\u001b[38;5;241m.\u001b[39mplot(data_graph[\u001b[38;5;124m\"\u001b[39m\u001b[38;5;124mtahun\u001b[39m\u001b[38;5;124m\"\u001b[39m], data_graph[\u001b[38;5;124m\"\u001b[39m\u001b[38;5;124mpajak\u001b[39m\u001b[38;5;124m\"\u001b[39m],\u001b[38;5;124m\"\u001b[39m\u001b[38;5;124mo-\u001b[39m\u001b[38;5;124m\"\u001b[39m, label\u001b[38;5;241m=\u001b[39m\u001b[38;5;124m\"\u001b[39m\u001b[38;5;124mpajak\u001b[39m\u001b[38;5;124m\"\u001b[39m)\n\u001b[0;32m      4\u001b[0m plt\u001b[38;5;241m.\u001b[39mtitle(\u001b[38;5;124m\"\u001b[39m\u001b[38;5;124mData rekapitulasi Tahunan\u001b[39m\u001b[38;5;124m\"\u001b[39m)\n",
      "\u001b[1;31mNameError\u001b[0m: name 'plt' is not defined"
     ]
    }
   ],
   "source": [
    "plt.plot(data_graph[\"tahun\"], data_graph[\"penjualan\"],\"o-\", label=\"penjualan\")\n",
    "plt.plot(data_graph[\"tahun\"], data_graph[\"pajak\"],\"o-\", label=\"pajak\")\n",
    "\n",
    "plt.title(\"Data rekapitulasi Tahunan\")\n",
    "plt.legend(loc=\"upper left\")\n",
    "plt.xlabel(\"Tahun\")\n",
    "plt.ylabel(\"Dalam jutaan Rp.\")\n",
    "plt.show()"
   ]
  },
  {
   "cell_type": "code",
   "execution_count": 11,
   "id": "ffe1740b-00be-48af-ac44-a7906c0529cf",
   "metadata": {},
   "outputs": [],
   "source": [
    "# Latihan\n",
    "# expected data\n",
    "data_graph = {\n",
    "    \"tahun\": [...], # x\n",
    "    \"penjualan\": [...], # y, \n",
    "    \"pajak\":[...],\n",
    "    \"operasional\": [...],\n",
    "    \"pendapatan_lain\": [...],\n",
    "    \"laba\": [...]\n",
    "}\n",
    "\n",
    "# laba = penjualan + pendapatan_lain - pajak - operasional"
   ]
  },
  {
   "cell_type": "code",
   "execution_count": null,
   "id": "1436bc72-8257-4344-b7f2-6e7299219209",
   "metadata": {},
   "outputs": [],
   "source": []
  }
 ],
 "metadata": {
  "kernelspec": {
   "display_name": "Python 3 (ipykernel)",
   "language": "python",
   "name": "python3"
  },
  "language_info": {
   "codemirror_mode": {
    "name": "ipython",
    "version": 3
   },
   "file_extension": ".py",
   "mimetype": "text/x-python",
   "name": "python",
   "nbconvert_exporter": "python",
   "pygments_lexer": "ipython3",
   "version": "3.11.9"
  }
 },
 "nbformat": 4,
 "nbformat_minor": 5
}
