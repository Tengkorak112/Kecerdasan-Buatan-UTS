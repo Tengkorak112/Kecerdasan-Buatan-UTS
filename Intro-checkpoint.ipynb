{
 "cells": [
  {
   "cell_type": "code",
   "execution_count": null,
   "id": "87177d38-5517-4c0a-a3e8-136e96ef3391",
   "metadata": {},
   "outputs": [],
   "source": [
    "# List\n",
    "data_list = [i+2 for i in range(20)]\n",
    "print(\"List:\", data_list)\n",
    "print(\"index:\", data_list[10])\n",
    "\n",
    "# Dict\n",
    "data_dict = {\n",
    "    \"Usia\": 18,\n",
    "    \"Pendidikan\": \"Sarjana\",\n",
    "    \"Nama\": \"Arif\",\n",
    "}\n",
    "\n",
    "print(\"Dict:\", data_dict)\n",
    "print(\"Nama:\", data_dict[\"Nama\"])\n"
   ]
  }
 ],
 "metadata": {
  "kernelspec": {
   "display_name": "Python 3 (ipykernel)",
   "language": "python",
   "name": "python3"
  },
  "language_info": {
   "codemirror_mode": {
    "name": "ipython",
    "version": 3
   },
   "file_extension": ".py",
   "mimetype": "text/x-python",
   "name": "python",
   "nbconvert_exporter": "python",
   "pygments_lexer": "ipython3",
   "version": "3.11.9"
  }
 },
 "nbformat": 4,
 "nbformat_minor": 5
}
