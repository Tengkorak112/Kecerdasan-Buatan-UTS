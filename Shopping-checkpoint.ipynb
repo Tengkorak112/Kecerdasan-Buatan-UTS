{
 "cells": [
  {
   "cell_type": "code",
   "execution_count": null,
   "id": "5c7f7624-76fb-4ddc-abb6-e1f39cdffd13",
   "metadata": {},
   "outputs": [],
   "source": [
    "\n",
    "transaksi = {\n",
    "    \"discount\": 20,\n",
    "    \"percentage\": True,\n",
    "    \"items\":[\n",
    "        {\n",
    "        \"price\": 10000,\n",
    "        \"qty\": 2\n",
    "        },\n",
    "        {\n",
    "        \"price\": 5000,\n",
    "        \"qty\": 12\n",
    "        },\n",
    "        {\n",
    "        \"price\": 120000,\n",
    "        \"qty\": 3\n",
    "        }\n",
    "    ]\n",
    "}\n",
    "\n",
    "# tambah item\n",
    "transaksi[\"items\"].append({\"price\": 20000, \"qty\": 5})\n",
    "print(transaksi[\"items\"])\n",
    "\n",
    "# Hitung subtotal (sebelum diskon), total(setelah diskon)\n",
    "# subtotal = sum([item[\"price\"] * item[\"qty\"] for item in transaksi[\"items\"]])\n",
    "# print(\"subtotal:\", subtotal)\n",
    "# print(\"total:\", subtotal - (subtotal * transaksi[\"discount\"]/100) if transaksi[\"percentage\"] else subtotal - transaksi[\"discount\"])\n",
    "subtotal = sum([item[\"price\"] * item[\"qty\"] for item in transaksi[\"items\"]])\n",
    "diskon = (subtotal * transaksi[\"discount\"]/100) if transaksi[\"percentage\"] else transaksi[\"discount\"]\n",
    "results = {\n",
    "    \"subtotal\": subtotal,\n",
    "    \"diskon\": diskon,\n",
    "    \"total\": subtotal - diskon\n",
    "}\n",
    "\n",
    "results[\"pajak\"] = 2.5/100 * results[\"total\"]\n",
    "\n",
    "for k, v in results.items():\n",
    "    print(f\"{k}: Rp.{v}\")"
   ]
  }
 ],
 "metadata": {
  "kernelspec": {
   "display_name": "Python 3 (ipykernel)",
   "language": "python",
   "name": "python3"
  },
  "language_info": {
   "codemirror_mode": {
    "name": "ipython",
    "version": 3
   },
   "file_extension": ".py",
   "mimetype": "text/x-python",
   "name": "python",
   "nbconvert_exporter": "python",
   "pygments_lexer": "ipython3",
   "version": "3.11.9"
  }
 },
 "nbformat": 4,
 "nbformat_minor": 5
}
